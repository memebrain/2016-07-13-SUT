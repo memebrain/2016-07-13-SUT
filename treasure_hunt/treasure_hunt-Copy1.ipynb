{
 "cells": [
  {
   "cell_type": "markdown",
   "metadata": {},
   "source": [
    "<img src=\"Treasure-Hunts-Logo-New-2.png\">"
   ]
  },
  {
   "cell_type": "code",
   "execution_count": 1,
   "metadata": {
    "collapsed": false
   },
   "outputs": [
    {
     "name": "stdout",
     "output_type": "stream",
     "text": [
      "[' ', 'a', 'b', 'c', 'd', 'e', 'f', 'g', 'h', 'i', 'j', 'k', 'l', 'm', 'n', 'o', 'p', 'q', 'r', 's', 't', 'u', 'v', 'w', 'x', 'y', 'z']\n"
     ]
    }
   ],
   "source": [
    "#define the treasure map by running this code block \n",
    "\n",
    "import string\n",
    "\n",
    "treasure_map = [' '] + [x for x in string.ascii_lowercase] \n",
    "print(treasure_map)"
   ]
  },
  {
   "cell_type": "code",
   "execution_count": 2,
   "metadata": {
    "collapsed": false
   },
   "outputs": [],
   "source": [
    "#create the treasure chest by running this code block\n",
    "\n",
    "treasure_chest = {'black': [22, 10, 10, 19, 8, 21, 12, 0, 0, 9, 13, 20],\n",
    "                  'blue': [8, 15, 6, 7, 8, 3, 9, 16, 4, 9, 5, 1],\n",
    "                  'green': [15, 1, 5, 2, 4, 14, 6, 21, 10, 18, 4, 7],\n",
    "                  'grey': [19, 14, 1, 11, 5, 19, 0, 1, 12, 9, 22, 5],\n",
    "                  'indigo': [8, 9, 13, 4, 11, 22, 7, 14, 1, 5, 12, 1],\n",
    "                  'red': [18, 16, 1, 0, 17, 6, 11, 0, 5, 23, 9, 17],\n",
    "                  'violet': [18, 1, 18, 3, 21, 15, 5, 23, 21, 22, 2, 0],\n",
    "                  'white': [17, 1, 6, 5, 4, 2, 20, 15, 3, 8, 2, 2],\n",
    "                  'yellow': [22, 12, 20, 21, 1, 7, 2, 9, 5, 6, 11, 16]}\n"
   ]
  },
  {
   "cell_type": "markdown",
   "metadata": {},
   "source": [
    "### Hint - The key to the treasure chest is the same as what's between black and white."
   ]
  },
  {
   "cell_type": "markdown",
   "metadata": {},
   "source": [
    "### When you have the key to the treasure chest, you will get the code for the treasure map."
   ]
  },
  {
   "cell_type": "code",
   "execution_count": 4,
   "metadata": {
    "collapsed": false
   },
   "outputs": [],
   "source": [
    "code = treasure_chest['grey']"
   ]
  },
  {
   "cell_type": "code",
   "execution_count": 5,
   "metadata": {
    "collapsed": true
   },
   "outputs": [],
   "source": [
    "#This is how the code is translated to the answer, run this code block to create the decipher function\n",
    "\n",
    "def decipher(code):\n",
    "    '''\n",
    "    Takes a list of integers as input and uses the numbers as index values \n",
    "    for the treasure map\n",
    "    returns the answer\n",
    "    '''\n",
    "    assert(type(code) is list), \"make sure you are giving the code as a list, i.e. [1,2,3,4,5]\" \n",
    "    \n",
    "    answer = ''\n",
    "    for num in code:\n",
    "        answer += treasure_map[num]\n",
    "    return answer"
   ]
  },
  {
   "cell_type": "code",
   "execution_count": 10,
   "metadata": {
    "collapsed": false
   },
   "outputs": [
    {
     "data": {
      "text/plain": [
       "'vjjshul  imt'"
      ]
     },
     "execution_count": 10,
     "metadata": {},
     "output_type": "execute_result"
    }
   ],
   "source": [
    "decipher(treasure_chest['black'])"
   ]
  },
  {
   "cell_type": "code",
   "execution_count": null,
   "metadata": {
    "collapsed": true
   },
   "outputs": [],
   "source": []
  }
 ],
 "metadata": {
  "kernelspec": {
   "display_name": "Python 3",
   "language": "python",
   "name": "python3"
  },
  "language_info": {
   "codemirror_mode": {
    "name": "ipython",
    "version": 3
   },
   "file_extension": ".py",
   "mimetype": "text/x-python",
   "name": "python",
   "nbconvert_exporter": "python",
   "pygments_lexer": "ipython3",
   "version": "3.4.3"
  }
 },
 "nbformat": 4,
 "nbformat_minor": 0
}
